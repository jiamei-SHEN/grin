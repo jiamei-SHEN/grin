{
 "cells": [
  {
   "cell_type": "code",
   "execution_count": 1,
   "id": "ee31effa",
   "metadata": {},
   "outputs": [],
   "source": [
    "import os\n",
    "import pandas as pd\n",
    "import numpy as np\n",
    "\n",
    "path = \"D:/programs/grin/datasets/lowa/\"\n",
    "line_feederA = pd.read_csv(os.path.join(path, 'feederA_line.csv'))\n",
    "line_feederB = pd.read_csv(os.path.join(path, 'feederB_line.csv'))\n",
    "line_feederC = pd.read_csv(os.path.join(path, 'feederC_line.csv'))"
   ]
  },
  {
   "cell_type": "code",
   "execution_count": 3,
   "id": "1bedc6aa",
   "metadata": {},
   "outputs": [],
   "source": [
    "df = pd.concat([line_feederA, line_feederB, line_feederC], axis=0)"
   ]
  },
  {
   "cell_type": "code",
   "execution_count": 5,
   "id": "611e013e",
   "metadata": {},
   "outputs": [],
   "source": [
    "df = df[['Bus A', 'Bus B', 'Length(ft.)']]"
   ]
  },
  {
   "cell_type": "code",
   "execution_count": 6,
   "id": "4b91ffcc",
   "metadata": {},
   "outputs": [
    {
     "data": {
      "text/html": [
       "<div>\n",
       "<style scoped>\n",
       "    .dataframe tbody tr th:only-of-type {\n",
       "        vertical-align: middle;\n",
       "    }\n",
       "\n",
       "    .dataframe tbody tr th {\n",
       "        vertical-align: top;\n",
       "    }\n",
       "\n",
       "    .dataframe thead th {\n",
       "        text-align: right;\n",
       "    }\n",
       "</style>\n",
       "<table border=\"1\" class=\"dataframe\">\n",
       "  <thead>\n",
       "    <tr style=\"text-align: right;\">\n",
       "      <th></th>\n",
       "      <th>Bus A</th>\n",
       "      <th>Bus B</th>\n",
       "      <th>Length(ft.)</th>\n",
       "    </tr>\n",
       "  </thead>\n",
       "  <tbody>\n",
       "    <tr>\n",
       "      <th>0</th>\n",
       "      <td>1001</td>\n",
       "      <td>1002</td>\n",
       "      <td>2967</td>\n",
       "    </tr>\n",
       "    <tr>\n",
       "      <th>1</th>\n",
       "      <td>1002</td>\n",
       "      <td>1003</td>\n",
       "      <td>372</td>\n",
       "    </tr>\n",
       "    <tr>\n",
       "      <th>2</th>\n",
       "      <td>1002</td>\n",
       "      <td>1004</td>\n",
       "      <td>638</td>\n",
       "    </tr>\n",
       "    <tr>\n",
       "      <th>3</th>\n",
       "      <td>1004</td>\n",
       "      <td>1005</td>\n",
       "      <td>394</td>\n",
       "    </tr>\n",
       "    <tr>\n",
       "      <th>4</th>\n",
       "      <td>1005</td>\n",
       "      <td>1006</td>\n",
       "      <td>1049</td>\n",
       "    </tr>\n",
       "    <tr>\n",
       "      <th>...</th>\n",
       "      <td>...</td>\n",
       "      <td>...</td>\n",
       "      <td>...</td>\n",
       "    </tr>\n",
       "    <tr>\n",
       "      <th>155</th>\n",
       "      <td>3157</td>\n",
       "      <td>3158</td>\n",
       "      <td>295</td>\n",
       "    </tr>\n",
       "    <tr>\n",
       "      <th>156</th>\n",
       "      <td>3158</td>\n",
       "      <td>3159</td>\n",
       "      <td>257</td>\n",
       "    </tr>\n",
       "    <tr>\n",
       "      <th>157</th>\n",
       "      <td>3159</td>\n",
       "      <td>3160</td>\n",
       "      <td>243</td>\n",
       "    </tr>\n",
       "    <tr>\n",
       "      <th>158</th>\n",
       "      <td>3160</td>\n",
       "      <td>3161</td>\n",
       "      <td>237</td>\n",
       "    </tr>\n",
       "    <tr>\n",
       "      <th>159</th>\n",
       "      <td>3161</td>\n",
       "      <td>3162</td>\n",
       "      <td>176</td>\n",
       "    </tr>\n",
       "  </tbody>\n",
       "</table>\n",
       "<p>233 rows × 3 columns</p>\n",
       "</div>"
      ],
      "text/plain": [
       "     Bus A  Bus B  Length(ft.)\n",
       "0     1001   1002         2967\n",
       "1     1002   1003          372\n",
       "2     1002   1004          638\n",
       "3     1004   1005          394\n",
       "4     1005   1006         1049\n",
       "..     ...    ...          ...\n",
       "155   3157   3158          295\n",
       "156   3158   3159          257\n",
       "157   3159   3160          243\n",
       "158   3160   3161          237\n",
       "159   3161   3162          176\n",
       "\n",
       "[233 rows x 3 columns]"
      ]
     },
     "execution_count": 6,
     "metadata": {},
     "output_type": "execute_result"
    }
   ],
   "source": [
    "df"
   ]
  },
  {
   "cell_type": "code",
   "execution_count": 7,
   "id": "18f631c5",
   "metadata": {},
   "outputs": [],
   "source": [
    "file_name = os.path.join(path, 'lowa_dist.h5')\n",
    "df.to_hdf(file_name, key='dist', mode='w')"
   ]
  },
  {
   "cell_type": "code",
   "execution_count": null,
   "id": "10d72a64",
   "metadata": {},
   "outputs": [],
   "source": []
  }
 ],
 "metadata": {
  "kernelspec": {
   "display_name": "Python 3 (ipykernel)",
   "language": "python",
   "name": "python3"
  },
  "language_info": {
   "codemirror_mode": {
    "name": "ipython",
    "version": 3
   },
   "file_extension": ".py",
   "mimetype": "text/x-python",
   "name": "python",
   "nbconvert_exporter": "python",
   "pygments_lexer": "ipython3",
   "version": "3.11.2"
  }
 },
 "nbformat": 4,
 "nbformat_minor": 5
}
